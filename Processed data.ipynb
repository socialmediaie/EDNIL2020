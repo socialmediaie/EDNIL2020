{
 "cells": [
  {
   "cell_type": "code",
   "execution_count": 1,
   "metadata": {},
   "outputs": [],
   "source": [
    "import xml.etree.ElementTree as ET\n",
    "from pathlib import Path\n",
    "from collections import Counter\n",
    "\n",
    "import json\n",
    "\n",
    "import pandas as pd\n",
    "\n",
    "\n",
    "from utils import *"
   ]
  },
  {
   "cell_type": "code",
   "execution_count": 2,
   "metadata": {},
   "outputs": [],
   "source": [
    "tree = ET.parse('./data/raw/en/Train/file1.xml')\n",
    "root = tree.getroot()"
   ]
  },
  {
   "cell_type": "code",
   "execution_count": 3,
   "metadata": {},
   "outputs": [
    {
     "data": {
      "text/plain": [
       "<Element 'DOCUMENT' at 0x0000013384B0FD18>"
      ]
     },
     "execution_count": 3,
     "metadata": {},
     "output_type": "execute_result"
    }
   ],
   "source": [
    "root"
   ]
  },
  {
   "cell_type": "code",
   "execution_count": 4,
   "metadata": {
    "scrolled": false
   },
   "outputs": [
    {
     "data": {
      "text/plain": [
       "[('1', 'B-CASUALTIES-ARG'),\n",
       " ('dead,', 'I-CASUALTIES-ARG'),\n",
       " ('18', 'I-CASUALTIES-ARG'),\n",
       " ('hurt', 'I-CASUALTIES-ARG'),\n",
       " ('in', 'O'),\n",
       " ('explosion', 'B-MAN_MADE_EVENT.INDUSTRIAL_ACCIDENT'),\n",
       " ('at', 'O'),\n",
       " ('natural', 'B-PLACE-ARG'),\n",
       " ('gas', 'I-PLACE-ARG'),\n",
       " ('plant', 'I-PLACE-ARG'),\n",
       " ('An', 'O'),\n",
       " ('explosion', 'B-MAN_MADE_EVENT.INDUSTRIAL_ACCIDENT'),\n",
       " ('on', 'O'),\n",
       " ('Tuesday', 'B-TIME-ARG'),\n",
       " ('at', 'O'),\n",
       " ('a', 'O'),\n",
       " ('natural', 'B-PLACE-ARG'),\n",
       " ('gas', 'I-PLACE-ARG'),\n",
       " ('facility', 'I-PLACE-ARG'),\n",
       " ('near', 'I-PLACE-ARG'),\n",
       " ('Austria’s', 'I-PLACE-ARG'),\n",
       " ('border', 'I-PLACE-ARG'),\n",
       " ('with', 'I-PLACE-ARG'),\n",
       " ('Slovakia', 'I-PLACE-ARG'),\n",
       " ('left', 'O'),\n",
       " ('one', 'B-CASUALTIES-ARG'),\n",
       " ('person', 'I-CASUALTIES-ARG'),\n",
       " ('dead,', 'I-CASUALTIES-ARG'),\n",
       " ('authorities', 'O'),\n",
       " ('said.', 'O'),\n",
       " ('A', 'O'),\n",
       " ('further', 'O'),\n",
       " ('18', 'B-CASUALTIES-ARG'),\n",
       " ('people', 'I-CASUALTIES-ARG'),\n",
       " ('were', 'I-CASUALTIES-ARG'),\n",
       " ('injured', 'I-CASUALTIES-ARG'),\n",
       " ('in', 'B-TIME-ARG'),\n",
       " ('the', 'I-TIME-ARG'),\n",
       " ('morning', 'I-TIME-ARG'),\n",
       " ('blast', 'B-MAN_MADE_EVENT.INDUSTRIAL_ACCIDENT'),\n",
       " ('at', 'O'),\n",
       " ('the', 'O'),\n",
       " ('plant', 'B-PLACE-ARG'),\n",
       " ('in', 'I-PLACE-ARG'),\n",
       " ('Baumgarten', 'I-PLACE-ARG'),\n",
       " ('an', 'I-PLACE-ARG'),\n",
       " ('der', 'I-PLACE-ARG'),\n",
       " ('March,', 'I-PLACE-ARG'),\n",
       " ('east', 'I-PLACE-ARG'),\n",
       " ('of', 'I-PLACE-ARG'),\n",
       " ('Vienna,', 'I-PLACE-ARG'),\n",
       " ('regional', 'O'),\n",
       " ('Red', 'O'),\n",
       " ('Cross', 'O'),\n",
       " ('official', 'O'),\n",
       " ('Sonja', 'O'),\n",
       " ('Kellner', 'O'),\n",
       " ('said.', 'O'),\n",
       " ('Two', 'O'),\n",
       " ('medical', 'O'),\n",
       " ('helicopters', 'O'),\n",
       " ('were', 'O'),\n",
       " ('sent', 'O'),\n",
       " ('to', 'O'),\n",
       " ('the', 'O'),\n",
       " ('scene,', 'O'),\n",
       " ('the', 'O'),\n",
       " ('Austria', 'O'),\n",
       " ('Press', 'O'),\n",
       " ('Agency', 'O'),\n",
       " ('reported.', 'O'),\n",
       " ('The', 'O'),\n",
       " ('explosion', 'B-MAN_MADE_EVENT.INDUSTRIAL_ACCIDENT'),\n",
       " ('set', 'O'),\n",
       " ('off', 'O'),\n",
       " ('a', 'O'),\n",
       " ('fire,', 'B-AFTER_EFFECTS-ARG'),\n",
       " ('which', 'O'),\n",
       " ('operator', 'O'),\n",
       " ('Gas', 'O'),\n",
       " ('Connect', 'O'),\n",
       " ('said', 'O'),\n",
       " ('was', 'O'),\n",
       " ('contained', 'O'),\n",
       " ('by', 'O'),\n",
       " ('midmorning.', 'O'),\n",
       " ('The', 'O'),\n",
       " ('facility', 'O'),\n",
       " ('was', 'O'),\n",
       " ('shut', 'O'),\n",
       " ('down,', 'O'),\n",
       " ('Gas', 'O'),\n",
       " ('Connect', 'O'),\n",
       " ('spokesman', 'O'),\n",
       " ('Armin', 'O'),\n",
       " ('Teichert', 'O'),\n",
       " ('said.', 'O'),\n",
       " ('Police', 'O'),\n",
       " ('wrote', 'O'),\n",
       " ('on', 'O'),\n",
       " ('Twitter', 'O'),\n",
       " ('that', 'O'),\n",
       " ('the', 'O'),\n",
       " ('situation', 'O'),\n",
       " ('“is', 'O'),\n",
       " ('under', 'O'),\n",
       " ('control.”', 'O'),\n",
       " ('There', 'O'),\n",
       " ('was', 'O'),\n",
       " ('no', 'O'),\n",
       " ('immediate', 'O'),\n",
       " ('word', 'O'),\n",
       " ('on', 'O'),\n",
       " ('what', 'O'),\n",
       " ('caused', 'O'),\n",
       " ('the', 'O'),\n",
       " ('blast', 'B-MAN_MADE_EVENT.INDUSTRIAL_ACCIDENT'),\n",
       " ('at', 'O'),\n",
       " ('the', 'O'),\n",
       " ('plant,', 'B-PLACE-ARG'),\n",
       " ('where', 'O'),\n",
       " ('pipelines', 'O'),\n",
       " ('connect', 'O'),\n",
       " ('and', 'O'),\n",
       " ('gas', 'O'),\n",
       " ('from', 'O'),\n",
       " ('Russia,', 'O'),\n",
       " ('Norway', 'O'),\n",
       " ('and', 'O'),\n",
       " ('other', 'O'),\n",
       " ('countries', 'O'),\n",
       " ('is', 'O'),\n",
       " ('compressed.', 'O')]"
      ]
     },
     "execution_count": 4,
     "metadata": {},
     "output_type": "execute_result"
    }
   ],
   "source": [
    "list(get_w_children(root))"
   ]
  },
  {
   "cell_type": "code",
   "execution_count": 5,
   "metadata": {
    "scrolled": false
   },
   "outputs": [
    {
     "name": "stdout",
     "output_type": "stream",
     "text": [
      "{'docid': 'file1', 'tokens': ('1', 'dead,', '18', 'hurt', 'in', 'explosion', 'at', 'natural', 'gas', 'plant', 'An', 'explosion', 'on', 'Tuesday', 'at', 'a', 'natural', 'gas', 'facility', 'near', 'Austria’s', 'border', 'with', 'Slovakia', 'left', 'one', 'person', 'dead,', 'authorities', 'said.', 'A', 'further', '18', 'people', 'were', 'injured', 'in', 'the', 'morning', 'blast', 'at', 'the', 'plant', 'in', 'Baumgarten', 'an', 'der', 'March,', 'east', 'of', 'Vienna,', 'regional', 'Red', 'Cross', 'official', 'Sonja', 'Kellner', 'said.', 'Two', 'medical', 'helicopters', 'were', 'sent', 'to', 'the', 'scene,', 'the', 'Austria', 'Press', 'Agency', 'reported.', 'The', 'explosion', 'set', 'off', 'a', 'fire,', 'which', 'operator', 'Gas', 'Connect', 'said', 'was', 'contained', 'by', 'midmorning.', 'The', 'facility', 'was', 'shut', 'down,', 'Gas', 'Connect', 'spokesman', 'Armin', 'Teichert', 'said.', 'Police', 'wrote', 'on', 'Twitter', 'that', 'the', 'situation', '“is', 'under', 'control.”', 'There', 'was', 'no', 'immediate', 'word', 'on', 'what', 'caused', 'the', 'blast', 'at', 'the', 'plant,', 'where', 'pipelines', 'connect', 'and', 'gas', 'from', 'Russia,', 'Norway', 'and', 'other', 'countries', 'is', 'compressed.'), 'tags': ('B-CASUALTIES-ARG', 'I-CASUALTIES-ARG', 'I-CASUALTIES-ARG', 'I-CASUALTIES-ARG', 'O', 'B-MAN_MADE_EVENT.INDUSTRIAL_ACCIDENT', 'O', 'B-PLACE-ARG', 'I-PLACE-ARG', 'I-PLACE-ARG', 'O', 'B-MAN_MADE_EVENT.INDUSTRIAL_ACCIDENT', 'O', 'B-TIME-ARG', 'O', 'O', 'B-PLACE-ARG', 'I-PLACE-ARG', 'I-PLACE-ARG', 'I-PLACE-ARG', 'I-PLACE-ARG', 'I-PLACE-ARG', 'I-PLACE-ARG', 'I-PLACE-ARG', 'O', 'B-CASUALTIES-ARG', 'I-CASUALTIES-ARG', 'I-CASUALTIES-ARG', 'O', 'O', 'O', 'O', 'B-CASUALTIES-ARG', 'I-CASUALTIES-ARG', 'I-CASUALTIES-ARG', 'I-CASUALTIES-ARG', 'B-TIME-ARG', 'I-TIME-ARG', 'I-TIME-ARG', 'B-MAN_MADE_EVENT.INDUSTRIAL_ACCIDENT', 'O', 'O', 'B-PLACE-ARG', 'I-PLACE-ARG', 'I-PLACE-ARG', 'I-PLACE-ARG', 'I-PLACE-ARG', 'I-PLACE-ARG', 'I-PLACE-ARG', 'I-PLACE-ARG', 'I-PLACE-ARG', 'O', 'O', 'O', 'O', 'O', 'O', 'O', 'O', 'O', 'O', 'O', 'O', 'O', 'O', 'O', 'O', 'O', 'O', 'O', 'O', 'O', 'B-MAN_MADE_EVENT.INDUSTRIAL_ACCIDENT', 'O', 'O', 'O', 'B-AFTER_EFFECTS-ARG', 'O', 'O', 'O', 'O', 'O', 'O', 'O', 'O', 'O', 'O', 'O', 'O', 'O', 'O', 'O', 'O', 'O', 'O', 'O', 'O', 'O', 'O', 'O', 'O', 'O', 'O', 'O', 'O', 'O', 'O', 'O', 'O', 'O', 'O', 'O', 'O', 'O', 'O', 'O', 'B-MAN_MADE_EVENT.INDUSTRIAL_ACCIDENT', 'O', 'O', 'B-PLACE-ARG', 'O', 'O', 'O', 'O', 'O', 'O', 'O', 'O', 'O', 'O', 'O', 'O', 'O'), 'labels': Counter({'MAN_MADE_EVENT.INDUSTRIAL_ACCIDENT': 5})}\n"
     ]
    }
   ],
   "source": [
    "xml_path = Path('./data/raw/en/Train/file1.xml')\n",
    "json_data = xml_to_json(xml_path)\n",
    "print(json_data)"
   ]
  },
  {
   "cell_type": "code",
   "execution_count": 6,
   "metadata": {},
   "outputs": [
    {
     "data": {
      "text/plain": [
       "[{'tokens': ('1', 'dead,', '18', 'hurt'),\n",
       "  'label': 'CASUALTIES-ARG',\n",
       "  'start': 0,\n",
       "  'end': 4,\n",
       "  'entity_phrase': ' 1   dead,   18   hurt '},\n",
       " {'tokens': ('explosion',),\n",
       "  'label': 'MAN_MADE_EVENT.INDUSTRIAL_ACCIDENT',\n",
       "  'start': 5,\n",
       "  'end': 6,\n",
       "  'entity_phrase': ' explosion '},\n",
       " {'tokens': ('natural', 'gas', 'plant'),\n",
       "  'label': 'PLACE-ARG',\n",
       "  'start': 7,\n",
       "  'end': 10,\n",
       "  'entity_phrase': ' natural   gas   plant '},\n",
       " {'tokens': ('explosion',),\n",
       "  'label': 'MAN_MADE_EVENT.INDUSTRIAL_ACCIDENT',\n",
       "  'start': 11,\n",
       "  'end': 12,\n",
       "  'entity_phrase': ' explosion '},\n",
       " {'tokens': ('Tuesday',),\n",
       "  'label': 'TIME-ARG',\n",
       "  'start': 13,\n",
       "  'end': 14,\n",
       "  'entity_phrase': ' Tuesday '},\n",
       " {'tokens': ('natural',\n",
       "   'gas',\n",
       "   'facility',\n",
       "   'near',\n",
       "   'Austria’s',\n",
       "   'border',\n",
       "   'with',\n",
       "   'Slovakia'),\n",
       "  'label': 'PLACE-ARG',\n",
       "  'start': 16,\n",
       "  'end': 24,\n",
       "  'entity_phrase': ' natural   gas   facility   near   Austria’s   border   with   Slovakia '},\n",
       " {'tokens': ('one', 'person', 'dead,'),\n",
       "  'label': 'CASUALTIES-ARG',\n",
       "  'start': 25,\n",
       "  'end': 28,\n",
       "  'entity_phrase': ' one   person   dead, '},\n",
       " {'tokens': ('18', 'people', 'were', 'injured'),\n",
       "  'label': 'CASUALTIES-ARG',\n",
       "  'start': 32,\n",
       "  'end': 36,\n",
       "  'entity_phrase': ' 18   people   were   injured '},\n",
       " {'tokens': ('in', 'the', 'morning'),\n",
       "  'label': 'TIME-ARG',\n",
       "  'start': 36,\n",
       "  'end': 39,\n",
       "  'entity_phrase': ' in   the   morning '},\n",
       " {'tokens': ('blast',),\n",
       "  'label': 'MAN_MADE_EVENT.INDUSTRIAL_ACCIDENT',\n",
       "  'start': 39,\n",
       "  'end': 40,\n",
       "  'entity_phrase': ' blast '},\n",
       " {'tokens': ('plant',\n",
       "   'in',\n",
       "   'Baumgarten',\n",
       "   'an',\n",
       "   'der',\n",
       "   'March,',\n",
       "   'east',\n",
       "   'of',\n",
       "   'Vienna,'),\n",
       "  'label': 'PLACE-ARG',\n",
       "  'start': 42,\n",
       "  'end': 51,\n",
       "  'entity_phrase': ' plant   in   Baumgarten   an   der   March,   east   of   Vienna, '},\n",
       " {'tokens': ('explosion',),\n",
       "  'label': 'MAN_MADE_EVENT.INDUSTRIAL_ACCIDENT',\n",
       "  'start': 72,\n",
       "  'end': 73,\n",
       "  'entity_phrase': ' explosion '},\n",
       " {'tokens': ('fire,',),\n",
       "  'label': 'AFTER_EFFECTS-ARG',\n",
       "  'start': 76,\n",
       "  'end': 77,\n",
       "  'entity_phrase': ' fire, '},\n",
       " {'tokens': ('blast',),\n",
       "  'label': 'MAN_MADE_EVENT.INDUSTRIAL_ACCIDENT',\n",
       "  'start': 116,\n",
       "  'end': 117,\n",
       "  'entity_phrase': ' blast '},\n",
       " {'tokens': ('plant,',),\n",
       "  'label': 'PLACE-ARG',\n",
       "  'start': 119,\n",
       "  'end': 120,\n",
       "  'entity_phrase': ' plant, '}]"
      ]
     },
     "execution_count": 6,
     "metadata": {},
     "output_type": "execute_result"
    }
   ],
   "source": [
    "get_entity_info(json_data[\"tags\"], json_data[\"tokens\"], text=None, spans=None)"
   ]
  },
  {
   "cell_type": "code",
   "execution_count": 7,
   "metadata": {},
   "outputs": [
    {
     "name": "stdout",
     "output_type": "stream",
     "text": [
      "{'docid': 'file1000', 'tokens': ('https://timesofindia.indiatimes.com/city/chennai/schoolteacher-dies-in-chennai-road-accident/articleshow/70260822.cms', 'Schoolteacher', 'dies', 'in', 'Chennai', 'road', 'accident', 'CHENNAI:', 'A', 'woman', 'schoolteacher', 'riding', 'pillion', 'on', 'a', 'two-wheeler', 'died', 'after', 'being', 'knocked', 'down', 'by', 'a', 'minitruck', 'in', 'Red', 'Hills', 'here', 'on', 'Wednesday', 'morning.', 'The', 'deceased', 'has', 'been', 'identified', 'as', 'Latha,', '35,', 'a', 'resident', 'of', 'Netaji', 'Street', 'in', 'Red', 'Hills.', 'She', 'worked', 'at', 'a', 'private', 'school', 'in', 'Ambattur.', 'The', 'accident', 'happened', 'around', '8.30am', 'when', 'she', 'was', 'going', 'to', 'school.', 'Her', 'husband,', 'Prabhu,', 'was', 'riding', 'the', 'two-wheeler.', 'The', 'minitruck', 'hit', 'the', 'two-wheeler', 'from', 'behind.', 'Latha', 'died', 'on', 'the', 'spot', 'while', 'Prabhu', 'escaped', 'with', 'injuries.', 'The', 'Madhavaram', 'traffic', 'investigation', 'police', 'registered', 'a', 'case', 'and', 'arrested', 'truck', 'driver', 'Magendran,', '38.'), 'tags': ('O', 'O', 'O', 'O', 'O', 'O', 'O', 'O', 'O', 'O', 'O', 'O', 'O', 'O', 'O', 'O', 'O', 'O', 'O', 'O', 'O', 'O', 'O', 'O', 'O', 'O', 'O', 'O', 'O', 'O', 'O', 'O', 'O', 'O', 'O', 'O', 'O', 'O', 'O', 'O', 'O', 'O', 'O', 'O', 'O', 'O', 'O', 'O', 'O', 'O', 'O', 'O', 'O', 'O', 'O', 'O', 'O', 'O', 'O', 'O', 'O', 'O', 'O', 'O', 'O', 'O', 'O', 'O', 'O', 'O', 'O', 'O', 'O', 'O', 'O', 'O', 'O', 'O', 'O', 'O', 'O', 'O', 'O', 'O', 'O', 'O', 'O', 'O', 'O', 'O', 'O', 'O', 'O', 'O', 'O', 'O', 'O', 'O', 'O', 'O', 'O', 'O', 'O', 'O'), 'labels': Counter()}\n"
     ]
    }
   ],
   "source": [
    "xml_path = Path('./data/raw/en/Test/file1000.xml')\n",
    "json_data = xml_to_json(xml_path, test=True)\n",
    "print(json_data)"
   ]
  },
  {
   "cell_type": "code",
   "execution_count": 8,
   "metadata": {},
   "outputs": [
    {
     "name": "stdout",
     "output_type": "stream",
     "text": [
      "en\n",
      "Processing data\\raw\\en\\Train to data\\processed\\en\\train.json\n",
      "Processing data\\raw\\en\\Test to data\\processed\\en\\test.json\n",
      "bn\n",
      "Processing data\\raw\\bn\\Train to data\\processed\\bn\\train.json\n",
      "Processing data\\raw\\bn\\Test to data\\processed\\bn\\test.json\n",
      "ma\n",
      "Processing data\\raw\\ma\\Train to data\\processed\\ma\\train.json\n",
      "Processing data\\raw\\ma\\Test to data\\processed\\ma\\test.json\n",
      "tm\n",
      "Processing data\\raw\\tm\\Train to data\\processed\\tm\\train.json\n",
      "Processing data\\raw\\tm\\Test to data\\processed\\tm\\test.json\n",
      "hn\n",
      "Processing data\\raw\\hn\\Train to data\\processed\\hn\\train.json\n",
      "Processing data\\raw\\hn\\Test to data\\processed\\hn\\test.json\n"
     ]
    }
   ],
   "source": [
    "for lang in [\"en\", \"bn\", \"ma\", \"tm\", \"hn\"]:\n",
    "    print(lang)\n",
    "    process_lang(lang)"
   ]
  }
 ],
 "metadata": {
  "kernelspec": {
   "display_name": "Python 3",
   "language": "python",
   "name": "python3"
  },
  "language_info": {
   "codemirror_mode": {
    "name": "ipython",
    "version": 3
   },
   "file_extension": ".py",
   "mimetype": "text/x-python",
   "name": "python",
   "nbconvert_exporter": "python",
   "pygments_lexer": "ipython3",
   "version": "3.7.3"
  }
 },
 "nbformat": 4,
 "nbformat_minor": 4
}
