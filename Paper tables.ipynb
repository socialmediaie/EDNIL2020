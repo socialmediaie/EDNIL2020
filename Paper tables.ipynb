{
 "cells": [
  {
   "cell_type": "code",
   "execution_count": 1,
   "metadata": {},
   "outputs": [],
   "source": [
    "import pandas as pd\n",
    "from pathlib import Path"
   ]
  },
  {
   "cell_type": "code",
   "execution_count": 2,
   "metadata": {},
   "outputs": [
    {
     "data": {
      "text/plain": [
       "[WindowsPath('data/processed/bn/test.json'),\n",
       " WindowsPath('data/processed/bn/train.json'),\n",
       " WindowsPath('data/processed/en/test.json'),\n",
       " WindowsPath('data/processed/en/train.json'),\n",
       " WindowsPath('data/processed/hn/test.json'),\n",
       " WindowsPath('data/processed/hn/train.json'),\n",
       " WindowsPath('data/processed/ma/test.json'),\n",
       " WindowsPath('data/processed/ma/train.json'),\n",
       " WindowsPath('data/processed/tm/test.json'),\n",
       " WindowsPath('data/processed/tm/train.json')]"
      ]
     },
     "execution_count": 2,
     "metadata": {},
     "output_type": "execute_result"
    }
   ],
   "source": [
    "file_paths = list(Path(\"./data/processed/\").glob(\"./**/*.json\"))\n",
    "file_paths"
   ]
  },
  {
   "cell_type": "code",
   "execution_count": 3,
   "metadata": {},
   "outputs": [
    {
     "data": {
      "text/plain": [
       "('data', 'processed', 'bn', 'test.json')"
      ]
     },
     "execution_count": 3,
     "metadata": {},
     "output_type": "execute_result"
    }
   ],
   "source": [
    "file_paths[0].parts"
   ]
  },
  {
   "cell_type": "code",
   "execution_count": 4,
   "metadata": {},
   "outputs": [],
   "source": [
    "counts = {}\n",
    "for file_path in file_paths:\n",
    "    _, _, lang, split = file_path.parts\n",
    "    split = split.split(\".\")[0]\n",
    "    counts[(lang, split)] = pd.read_json(file_path, orient=\"records\", lines=True).shape[0]"
   ]
  },
  {
   "cell_type": "code",
   "execution_count": 5,
   "metadata": {},
   "outputs": [
    {
     "data": {
      "text/html": [
       "<div>\n",
       "<style scoped>\n",
       "    .dataframe tbody tr th:only-of-type {\n",
       "        vertical-align: middle;\n",
       "    }\n",
       "\n",
       "    .dataframe tbody tr th {\n",
       "        vertical-align: top;\n",
       "    }\n",
       "\n",
       "    .dataframe thead th {\n",
       "        text-align: right;\n",
       "    }\n",
       "</style>\n",
       "<table border=\"1\" class=\"dataframe\">\n",
       "  <thead>\n",
       "    <tr style=\"text-align: right;\">\n",
       "      <th></th>\n",
       "      <th>lang</th>\n",
       "      <th>split</th>\n",
       "      <th>#docs</th>\n",
       "    </tr>\n",
       "  </thead>\n",
       "  <tbody>\n",
       "    <tr>\n",
       "      <td>0</td>\n",
       "      <td>bn</td>\n",
       "      <td>test</td>\n",
       "      <td>204</td>\n",
       "    </tr>\n",
       "    <tr>\n",
       "      <td>1</td>\n",
       "      <td>bn</td>\n",
       "      <td>train</td>\n",
       "      <td>800</td>\n",
       "    </tr>\n",
       "    <tr>\n",
       "      <td>2</td>\n",
       "      <td>en</td>\n",
       "      <td>test</td>\n",
       "      <td>206</td>\n",
       "    </tr>\n",
       "    <tr>\n",
       "      <td>3</td>\n",
       "      <td>en</td>\n",
       "      <td>train</td>\n",
       "      <td>828</td>\n",
       "    </tr>\n",
       "    <tr>\n",
       "      <td>4</td>\n",
       "      <td>hn</td>\n",
       "      <td>test</td>\n",
       "      <td>160</td>\n",
       "    </tr>\n",
       "    <tr>\n",
       "      <td>5</td>\n",
       "      <td>hn</td>\n",
       "      <td>train</td>\n",
       "      <td>677</td>\n",
       "    </tr>\n",
       "    <tr>\n",
       "      <td>6</td>\n",
       "      <td>ma</td>\n",
       "      <td>test</td>\n",
       "      <td>265</td>\n",
       "    </tr>\n",
       "    <tr>\n",
       "      <td>7</td>\n",
       "      <td>ma</td>\n",
       "      <td>train</td>\n",
       "      <td>1030</td>\n",
       "    </tr>\n",
       "    <tr>\n",
       "      <td>8</td>\n",
       "      <td>tm</td>\n",
       "      <td>test</td>\n",
       "      <td>257</td>\n",
       "    </tr>\n",
       "    <tr>\n",
       "      <td>9</td>\n",
       "      <td>tm</td>\n",
       "      <td>train</td>\n",
       "      <td>1013</td>\n",
       "    </tr>\n",
       "  </tbody>\n",
       "</table>\n",
       "</div>"
      ],
      "text/plain": [
       "  lang  split  #docs\n",
       "0   bn   test    204\n",
       "1   bn  train    800\n",
       "2   en   test    206\n",
       "3   en  train    828\n",
       "4   hn   test    160\n",
       "5   hn  train    677\n",
       "6   ma   test    265\n",
       "7   ma  train   1030\n",
       "8   tm   test    257\n",
       "9   tm  train   1013"
      ]
     },
     "execution_count": 5,
     "metadata": {},
     "output_type": "execute_result"
    }
   ],
   "source": [
    "df_t = pd.DataFrame(\n",
    "    [k + (v,) for k,v in counts.items()],\n",
    "    columns=[\"lang\", \"split\", \"#docs\"]\n",
    ")\n",
    "df_t"
   ]
  },
  {
   "cell_type": "code",
   "execution_count": 6,
   "metadata": {},
   "outputs": [
    {
     "data": {
      "text/html": [
       "<div>\n",
       "<style scoped>\n",
       "    .dataframe tbody tr th:only-of-type {\n",
       "        vertical-align: middle;\n",
       "    }\n",
       "\n",
       "    .dataframe tbody tr th {\n",
       "        vertical-align: top;\n",
       "    }\n",
       "\n",
       "    .dataframe thead th {\n",
       "        text-align: right;\n",
       "    }\n",
       "</style>\n",
       "<table border=\"1\" class=\"dataframe\">\n",
       "  <thead>\n",
       "    <tr style=\"text-align: right;\">\n",
       "      <th>lang</th>\n",
       "      <th>bn</th>\n",
       "      <th>en</th>\n",
       "      <th>hn</th>\n",
       "      <th>ma</th>\n",
       "      <th>tm</th>\n",
       "    </tr>\n",
       "    <tr>\n",
       "      <th>split</th>\n",
       "      <th></th>\n",
       "      <th></th>\n",
       "      <th></th>\n",
       "      <th></th>\n",
       "      <th></th>\n",
       "    </tr>\n",
       "  </thead>\n",
       "  <tbody>\n",
       "    <tr>\n",
       "      <td>test</td>\n",
       "      <td>204</td>\n",
       "      <td>206</td>\n",
       "      <td>160</td>\n",
       "      <td>265</td>\n",
       "      <td>257</td>\n",
       "    </tr>\n",
       "    <tr>\n",
       "      <td>train</td>\n",
       "      <td>800</td>\n",
       "      <td>828</td>\n",
       "      <td>677</td>\n",
       "      <td>1030</td>\n",
       "      <td>1013</td>\n",
       "    </tr>\n",
       "  </tbody>\n",
       "</table>\n",
       "</div>"
      ],
      "text/plain": [
       "lang    bn   en   hn    ma    tm\n",
       "split                           \n",
       "test   204  206  160   265   257\n",
       "train  800  828  677  1030  1013"
      ]
     },
     "execution_count": 6,
     "metadata": {},
     "output_type": "execute_result"
    }
   ],
   "source": [
    "df_t.pivot(index=\"split\", columns=\"lang\", values=\"#docs\")"
   ]
  },
  {
   "cell_type": "code",
   "execution_count": 7,
   "metadata": {},
   "outputs": [
    {
     "name": "stdout",
     "output_type": "stream",
     "text": [
      "\\begin{tabular}{lrrrrr}\n",
      "\\toprule\n",
      "lang &   bn &   en &   hn &    ma &    tm \\\\\n",
      "split &      &      &      &       &       \\\\\n",
      "\\midrule\n",
      "test  &  204 &  206 &  160 &   265 &   257 \\\\\n",
      "train &  800 &  828 &  677 &  1030 &  1013 \\\\\n",
      "\\bottomrule\n",
      "\\end{tabular}\n",
      "\n"
     ]
    }
   ],
   "source": [
    "print(df_t.pivot(index=\"split\", columns=\"lang\", values=\"#docs\").to_latex())"
   ]
  },
  {
   "cell_type": "code",
   "execution_count": 8,
   "metadata": {},
   "outputs": [
    {
     "data": {
      "text/plain": [
       "tokens    [1, dead,, 18, hurt, in, explosion, at, natura...\n",
       "tags      [B-CASUALTIES-ARG, I-CASUALTIES-ARG, I-CASUALT...\n",
       "Name: 0, dtype: object"
      ]
     },
     "execution_count": 8,
     "metadata": {},
     "output_type": "execute_result"
    }
   ],
   "source": [
    "row = pd.read_json(file_paths[3], orient=\"records\", lines=True).head().loc[0,[\"tokens\", \"tags\"]]\n",
    "row"
   ]
  },
  {
   "cell_type": "code",
   "execution_count": 9,
   "metadata": {},
   "outputs": [
    {
     "name": "stdout",
     "output_type": "stream",
     "text": [
      "1/B-CASUALTIES-ARG dead,/I-CASUALTIES-ARG 18/I-CASUALTIES-ARG hurt/I-CASUALTIES-ARG in/O explosion/B-MAN_MADE_EVENT.INDUSTRIAL_ACCIDENT at/O natural/B-PLACE-ARG gas/I-PLACE-ARG plant/I-PLACE-ARG An/O explosion/B-MAN_MADE_EVENT.INDUSTRIAL_ACCIDENT on/O Tuesday/B-TIME-ARG at/O a/O natural/B-PLACE-ARG gas/I-PLACE-ARG facility/I-PLACE-ARG near/I-PLACE-ARG Austria’s/I-PLACE-ARG border/I-PLACE-ARG with/I-PLACE-ARG Slovakia/I-PLACE-ARG left/O one/B-CASUALTIES-ARG person/I-CASUALTIES-ARG dead,/I-CASUALTIES-ARG authorities/O said./O A/O further/O 18/B-CASUALTIES-ARG people/I-CASUALTIES-ARG were/I-CASUALTIES-ARG injured/I-CASUALTIES-ARG in/B-TIME-ARG the/I-TIME-ARG morning/I-TIME-ARG blast/B-MAN_MADE_EVENT.INDUSTRIAL_ACCIDENT at/O the/O plant/B-PLACE-ARG in/I-PLACE-ARG Baumgarten/I-PLACE-ARG an/I-PLACE-ARG der/I-PLACE-ARG March,/I-PLACE-ARG east/I-PLACE-ARG of/I-PLACE-ARG Vienna,/I-PLACE-ARG regional/O Red/O Cross/O official/O Sonja/O Kellner/O said./O Two/O medical/O helicopters/O were/O sent/O to/O the/O scene,/O the/O Austria/O Press/O Agency/O reported./O The/O explosion/B-MAN_MADE_EVENT.INDUSTRIAL_ACCIDENT set/O off/O a/O fire,/B-AFTER_EFFECTS-ARG which/O operator/O Gas/O Connect/O said/O was/O contained/O by/O midmorning./O The/O facility/O was/O shut/O down,/O Gas/O Connect/O spokesman/O Armin/O Teichert/O said./O Police/O wrote/O on/O Twitter/O that/O the/O situation/O “is/O under/O control.”/O There/O was/O no/O immediate/O word/O on/O what/O caused/O the/O blast/B-MAN_MADE_EVENT.INDUSTRIAL_ACCIDENT at/O the/O plant,/B-PLACE-ARG where/O pipelines/O connect/O and/O gas/O from/O Russia,/O Norway/O and/O other/O countries/O is/O compressed./O\n"
     ]
    }
   ],
   "source": [
    "print(\" \".join(f\"{token}/{tag}\" for token, tag in zip(row.tokens, row.tags)))"
   ]
  },
  {
   "cell_type": "code",
   "execution_count": 10,
   "metadata": {},
   "outputs": [],
   "source": [
    "from spacy import displacy"
   ]
  },
  {
   "cell_type": "code",
   "execution_count": 18,
   "metadata": {},
   "outputs": [],
   "source": [
    "def split_tag(tag):\n",
    "    return tuple(tag.split(\"-\", 1)) if tag != \"O\" else (tag, None)\n",
    "\n",
    "def extract_entities(tags):\n",
    "    tags = list(tags)\n",
    "    curr_entity = []\n",
    "    entities = []\n",
    "    for i, tag in enumerate(tags + [\"O\"]):\n",
    "        # Add dummy tag in end to ensure the last entity is added to entities\n",
    "        boundary, label = split_tag(tag)\n",
    "        if curr_entity:\n",
    "            # Exit entity\n",
    "            if boundary in {\"B\", \"O\"} or label != curr_entity[-1][1]:\n",
    "                start = i - len(curr_entity)\n",
    "                end = i\n",
    "                entity_label = curr_entity[-1][1]\n",
    "                entities.append((entity_label, start, end))\n",
    "                curr_entity = []\n",
    "            elif boundary == \"I\":\n",
    "                curr_entity.append((boundary, label))\n",
    "        if boundary == \"B\":\n",
    "            # Enter or inside entity\n",
    "            assert not curr_entity, f\"Entity should be empty. Found: {curr_entity}\"\n",
    "            curr_entity.append((boundary, label))\n",
    "    return entities\n",
    "\n",
    "\n",
    "def get_entity_info(bio_labels, tokens, text=None, spans=None):\n",
    "    entities_info = extract_entities(bio_labels)\n",
    "    entities = []        \n",
    "    for label, start, end in entities_info:\n",
    "        entity_phrase = None\n",
    "        start_char_idx = None\n",
    "        end_char_idx = None\n",
    "        if text and spans:\n",
    "            start_char_idx = spans[start][0]\n",
    "            end_char_idx = spans[end-1][1]\n",
    "            entity_phrase = text[start_char_idx:end_char_idx]\n",
    "        entities.append(dict(\n",
    "            tokens=tokens[start:end],\n",
    "            label=label,\n",
    "            start=start,\n",
    "            start_char_idx=start_char_idx,\n",
    "            end_char_idx=end_char_idx,\n",
    "            end=end,\n",
    "            entity_phrase=entity_phrase))\n",
    "    return entities"
   ]
  },
  {
   "cell_type": "code",
   "execution_count": 37,
   "metadata": {},
   "outputs": [],
   "source": [
    "from IPython.display import display, display_html, HTML"
   ]
  },
  {
   "cell_type": "code",
   "execution_count": 42,
   "metadata": {},
   "outputs": [],
   "source": [
    "def render(tokens, tags):\n",
    "    text = \" \".join(row.tokens)\n",
    "    spans = []\n",
    "    start_char_idx = 0\n",
    "    for token in tokens:\n",
    "        spans.append((start_char_idx, start_char_idx+len(token)))\n",
    "        start_char_idx += len(token) + 1 # For space\n",
    "    entity_info = get_entity_info(tags, tokens, text, spans)\n",
    "    unique_labels = set([e[\"label\"] for e in entity_info])\n",
    "    pallet = \"#48cd4a,#cb4f78,#e97e0b,#48f061,#8ff1df,#9ead18,#27e57b,#e051c0,#7add51,#dab304,#1dfafb\".split(\",\")\n",
    "    colors = {\n",
    "        l:c for l,c in zip(unique_labels, pallet)\n",
    "    }\n",
    "    \n",
    "    doc = {\n",
    "        \"text\": text,\n",
    "        \"ents\": [\n",
    "            {\"label\": e[\"label\"], \"start\": e[\"start_char_idx\"], \"end\": e[\"end_char_idx\"]}\n",
    "            for e in entity_info\n",
    "        ]\n",
    "    }\n",
    "    bio_text = \" \".join(f\"{token}/{tag}\" for token, tag in zip(row.tokens, row.tags))\n",
    "    display(HTML(\"<h3>Highlighted Entities</h3>\"))\n",
    "    displacy.render(doc, style=\"ent\", manual=True, options=dict(colors=colors))\n",
    "    display(HTML(f\"<h3>BIO Format</h3><pre>{bio_text}</pre>\"))"
   ]
  },
  {
   "cell_type": "code",
   "execution_count": 43,
   "metadata": {},
   "outputs": [
    {
     "data": {
      "text/html": [
       "<h3>Highlighted Entities</h3>"
      ],
      "text/plain": [
       "<IPython.core.display.HTML object>"
      ]
     },
     "metadata": {},
     "output_type": "display_data"
    },
    {
     "data": {
      "text/html": [
       "<span class=\"tex2jax_ignore\"><div class=\"entities\" style=\"line-height: 2.5; direction: ltr\">\n",
       "<mark class=\"entity\" style=\"background: #8ff1df; padding: 0.45em 0.6em; margin: 0 0.25em; line-height: 1; border-radius: 0.35em;\">\n",
       "    1 dead, 18 hurt\n",
       "    <span style=\"font-size: 0.8em; font-weight: bold; line-height: 1; border-radius: 0.35em; text-transform: uppercase; vertical-align: middle; margin-left: 0.5rem\">CASUALTIES-ARG</span>\n",
       "</mark>\n",
       " in \n",
       "<mark class=\"entity\" style=\"background: #48f061; padding: 0.45em 0.6em; margin: 0 0.25em; line-height: 1; border-radius: 0.35em;\">\n",
       "    explosion\n",
       "    <span style=\"font-size: 0.8em; font-weight: bold; line-height: 1; border-radius: 0.35em; text-transform: uppercase; vertical-align: middle; margin-left: 0.5rem\">MAN_MADE_EVENT.INDUSTRIAL_ACCIDENT</span>\n",
       "</mark>\n",
       " at \n",
       "<mark class=\"entity\" style=\"background: #cb4f78; padding: 0.45em 0.6em; margin: 0 0.25em; line-height: 1; border-radius: 0.35em;\">\n",
       "    natural gas plant\n",
       "    <span style=\"font-size: 0.8em; font-weight: bold; line-height: 1; border-radius: 0.35em; text-transform: uppercase; vertical-align: middle; margin-left: 0.5rem\">PLACE-ARG</span>\n",
       "</mark>\n",
       " An \n",
       "<mark class=\"entity\" style=\"background: #48f061; padding: 0.45em 0.6em; margin: 0 0.25em; line-height: 1; border-radius: 0.35em;\">\n",
       "    explosion\n",
       "    <span style=\"font-size: 0.8em; font-weight: bold; line-height: 1; border-radius: 0.35em; text-transform: uppercase; vertical-align: middle; margin-left: 0.5rem\">MAN_MADE_EVENT.INDUSTRIAL_ACCIDENT</span>\n",
       "</mark>\n",
       " on \n",
       "<mark class=\"entity\" style=\"background: #48cd4a; padding: 0.45em 0.6em; margin: 0 0.25em; line-height: 1; border-radius: 0.35em;\">\n",
       "    Tuesday\n",
       "    <span style=\"font-size: 0.8em; font-weight: bold; line-height: 1; border-radius: 0.35em; text-transform: uppercase; vertical-align: middle; margin-left: 0.5rem\">TIME-ARG</span>\n",
       "</mark>\n",
       " at a \n",
       "<mark class=\"entity\" style=\"background: #cb4f78; padding: 0.45em 0.6em; margin: 0 0.25em; line-height: 1; border-radius: 0.35em;\">\n",
       "    natural gas facility near Austria’s border with Slovakia\n",
       "    <span style=\"font-size: 0.8em; font-weight: bold; line-height: 1; border-radius: 0.35em; text-transform: uppercase; vertical-align: middle; margin-left: 0.5rem\">PLACE-ARG</span>\n",
       "</mark>\n",
       " left \n",
       "<mark class=\"entity\" style=\"background: #8ff1df; padding: 0.45em 0.6em; margin: 0 0.25em; line-height: 1; border-radius: 0.35em;\">\n",
       "    one person dead,\n",
       "    <span style=\"font-size: 0.8em; font-weight: bold; line-height: 1; border-radius: 0.35em; text-transform: uppercase; vertical-align: middle; margin-left: 0.5rem\">CASUALTIES-ARG</span>\n",
       "</mark>\n",
       " authorities said. A further \n",
       "<mark class=\"entity\" style=\"background: #8ff1df; padding: 0.45em 0.6em; margin: 0 0.25em; line-height: 1; border-radius: 0.35em;\">\n",
       "    18 people were injured\n",
       "    <span style=\"font-size: 0.8em; font-weight: bold; line-height: 1; border-radius: 0.35em; text-transform: uppercase; vertical-align: middle; margin-left: 0.5rem\">CASUALTIES-ARG</span>\n",
       "</mark>\n",
       " \n",
       "<mark class=\"entity\" style=\"background: #48cd4a; padding: 0.45em 0.6em; margin: 0 0.25em; line-height: 1; border-radius: 0.35em;\">\n",
       "    in the morning\n",
       "    <span style=\"font-size: 0.8em; font-weight: bold; line-height: 1; border-radius: 0.35em; text-transform: uppercase; vertical-align: middle; margin-left: 0.5rem\">TIME-ARG</span>\n",
       "</mark>\n",
       " \n",
       "<mark class=\"entity\" style=\"background: #48f061; padding: 0.45em 0.6em; margin: 0 0.25em; line-height: 1; border-radius: 0.35em;\">\n",
       "    blast\n",
       "    <span style=\"font-size: 0.8em; font-weight: bold; line-height: 1; border-radius: 0.35em; text-transform: uppercase; vertical-align: middle; margin-left: 0.5rem\">MAN_MADE_EVENT.INDUSTRIAL_ACCIDENT</span>\n",
       "</mark>\n",
       " at the \n",
       "<mark class=\"entity\" style=\"background: #cb4f78; padding: 0.45em 0.6em; margin: 0 0.25em; line-height: 1; border-radius: 0.35em;\">\n",
       "    plant in Baumgarten an der March, east of Vienna,\n",
       "    <span style=\"font-size: 0.8em; font-weight: bold; line-height: 1; border-radius: 0.35em; text-transform: uppercase; vertical-align: middle; margin-left: 0.5rem\">PLACE-ARG</span>\n",
       "</mark>\n",
       " regional Red Cross official Sonja Kellner said. Two medical helicopters were sent to the scene, the Austria Press Agency reported. The \n",
       "<mark class=\"entity\" style=\"background: #48f061; padding: 0.45em 0.6em; margin: 0 0.25em; line-height: 1; border-radius: 0.35em;\">\n",
       "    explosion\n",
       "    <span style=\"font-size: 0.8em; font-weight: bold; line-height: 1; border-radius: 0.35em; text-transform: uppercase; vertical-align: middle; margin-left: 0.5rem\">MAN_MADE_EVENT.INDUSTRIAL_ACCIDENT</span>\n",
       "</mark>\n",
       " set off a \n",
       "<mark class=\"entity\" style=\"background: #e97e0b; padding: 0.45em 0.6em; margin: 0 0.25em; line-height: 1; border-radius: 0.35em;\">\n",
       "    fire,\n",
       "    <span style=\"font-size: 0.8em; font-weight: bold; line-height: 1; border-radius: 0.35em; text-transform: uppercase; vertical-align: middle; margin-left: 0.5rem\">AFTER_EFFECTS-ARG</span>\n",
       "</mark>\n",
       " which operator Gas Connect said was contained by midmorning. The facility was shut down, Gas Connect spokesman Armin Teichert said. Police wrote on Twitter that the situation “is under control.” There was no immediate word on what caused the \n",
       "<mark class=\"entity\" style=\"background: #48f061; padding: 0.45em 0.6em; margin: 0 0.25em; line-height: 1; border-radius: 0.35em;\">\n",
       "    blast\n",
       "    <span style=\"font-size: 0.8em; font-weight: bold; line-height: 1; border-radius: 0.35em; text-transform: uppercase; vertical-align: middle; margin-left: 0.5rem\">MAN_MADE_EVENT.INDUSTRIAL_ACCIDENT</span>\n",
       "</mark>\n",
       " at the \n",
       "<mark class=\"entity\" style=\"background: #cb4f78; padding: 0.45em 0.6em; margin: 0 0.25em; line-height: 1; border-radius: 0.35em;\">\n",
       "    plant,\n",
       "    <span style=\"font-size: 0.8em; font-weight: bold; line-height: 1; border-radius: 0.35em; text-transform: uppercase; vertical-align: middle; margin-left: 0.5rem\">PLACE-ARG</span>\n",
       "</mark>\n",
       " where pipelines connect and gas from Russia, Norway and other countries is compressed.</div></span>"
      ],
      "text/plain": [
       "<IPython.core.display.HTML object>"
      ]
     },
     "metadata": {},
     "output_type": "display_data"
    },
    {
     "data": {
      "text/html": [
       "<h3>BIO Format</h3><pre>1/B-CASUALTIES-ARG dead,/I-CASUALTIES-ARG 18/I-CASUALTIES-ARG hurt/I-CASUALTIES-ARG in/O explosion/B-MAN_MADE_EVENT.INDUSTRIAL_ACCIDENT at/O natural/B-PLACE-ARG gas/I-PLACE-ARG plant/I-PLACE-ARG An/O explosion/B-MAN_MADE_EVENT.INDUSTRIAL_ACCIDENT on/O Tuesday/B-TIME-ARG at/O a/O natural/B-PLACE-ARG gas/I-PLACE-ARG facility/I-PLACE-ARG near/I-PLACE-ARG Austria’s/I-PLACE-ARG border/I-PLACE-ARG with/I-PLACE-ARG Slovakia/I-PLACE-ARG left/O one/B-CASUALTIES-ARG person/I-CASUALTIES-ARG dead,/I-CASUALTIES-ARG authorities/O said./O A/O further/O 18/B-CASUALTIES-ARG people/I-CASUALTIES-ARG were/I-CASUALTIES-ARG injured/I-CASUALTIES-ARG in/B-TIME-ARG the/I-TIME-ARG morning/I-TIME-ARG blast/B-MAN_MADE_EVENT.INDUSTRIAL_ACCIDENT at/O the/O plant/B-PLACE-ARG in/I-PLACE-ARG Baumgarten/I-PLACE-ARG an/I-PLACE-ARG der/I-PLACE-ARG March,/I-PLACE-ARG east/I-PLACE-ARG of/I-PLACE-ARG Vienna,/I-PLACE-ARG regional/O Red/O Cross/O official/O Sonja/O Kellner/O said./O Two/O medical/O helicopters/O were/O sent/O to/O the/O scene,/O the/O Austria/O Press/O Agency/O reported./O The/O explosion/B-MAN_MADE_EVENT.INDUSTRIAL_ACCIDENT set/O off/O a/O fire,/B-AFTER_EFFECTS-ARG which/O operator/O Gas/O Connect/O said/O was/O contained/O by/O midmorning./O The/O facility/O was/O shut/O down,/O Gas/O Connect/O spokesman/O Armin/O Teichert/O said./O Police/O wrote/O on/O Twitter/O that/O the/O situation/O “is/O under/O control.”/O There/O was/O no/O immediate/O word/O on/O what/O caused/O the/O blast/B-MAN_MADE_EVENT.INDUSTRIAL_ACCIDENT at/O the/O plant,/B-PLACE-ARG where/O pipelines/O connect/O and/O gas/O from/O Russia,/O Norway/O and/O other/O countries/O is/O compressed./O</pre>"
      ],
      "text/plain": [
       "<IPython.core.display.HTML object>"
      ]
     },
     "metadata": {},
     "output_type": "display_data"
    }
   ],
   "source": [
    "render(row.tokens, row.tags)"
   ]
  },
  {
   "cell_type": "code",
   "execution_count": null,
   "metadata": {},
   "outputs": [],
   "source": []
  }
 ],
 "metadata": {
  "kernelspec": {
   "display_name": "Python [conda env:root] *",
   "language": "python",
   "name": "conda-root-py"
  },
  "language_info": {
   "codemirror_mode": {
    "name": "ipython",
    "version": 3
   },
   "file_extension": ".py",
   "mimetype": "text/x-python",
   "name": "python",
   "nbconvert_exporter": "python",
   "pygments_lexer": "ipython3",
   "version": "3.7.3"
  }
 },
 "nbformat": 4,
 "nbformat_minor": 4
}
